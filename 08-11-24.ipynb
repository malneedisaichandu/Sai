{
 "cells": [
  {
   "cell_type": "code",
   "execution_count": 3,
   "id": "ce49bdba-d862-4077-b2fd-b59416c3a43d",
   "metadata": {},
   "outputs": [
    {
     "name": "stdin",
     "output_type": "stream",
     "text": [
      "enter number 1: 1\n",
      "enter number 1: 2\n"
     ]
    },
    {
     "name": "stdout",
     "output_type": "stream",
     "text": [
      "3\n"
     ]
    }
   ],
   "source": [
    "def add(a,b):\n",
    "    print(a+b)\n",
    "try:\n",
    "    n=eval(input(\"enter number 1:\"))\n",
    "    n1=eval(input(\"enter number 1:\"))\n",
    "    add(n,n1)\n",
    "except Exception as e:\n",
    "    print(e)\n",
    "    \n"
   ]
  },
  {
   "cell_type": "code",
   "execution_count": 4,
   "id": "8375e46f-2fba-4a7c-bf54-d2ea2f8e4326",
   "metadata": {},
   "outputs": [
    {
     "name": "stdin",
     "output_type": "stream",
     "text": [
      "enter a number 1\n",
      "enter a number 2\n",
      "enter a number 3\n"
     ]
    },
    {
     "name": "stdout",
     "output_type": "stream",
     "text": [
      "6\n"
     ]
    }
   ],
   "source": [
    "def fun(n1,n2,n3):\n",
    "    print((n1+n2+n3)/3)\n",
    "n1=eval(input(\"enter a number\"))\n",
    "n2=eval(input(\"enter a number\"))\n",
    "n3=eval(input(\"enter a number\"))\n",
    "fun(n1,n2,n3)"
   ]
  },
  {
   "cell_type": "code",
   "execution_count": 5,
   "id": "d55783a1-0a3e-4ef4-9dc2-ec6da643a303",
   "metadata": {},
   "outputs": [
    {
     "name": "stdin",
     "output_type": "stream",
     "text": [
      "enter a breath 1\n",
      "enter a height 2\n"
     ]
    },
    {
     "name": "stdout",
     "output_type": "stream",
     "text": [
      "1.0\n"
     ]
    }
   ],
   "source": [
    "def fun(n1,n2):\n",
    "    print(0.5*n1*n2)\n",
    "\n",
    "n1=eval(input(\"enter a breath\"))\n",
    "n2=eval(input(\"enter a height\"))\n",
    "fun(n1,n2)"
   ]
  },
  {
   "cell_type": "code",
   "execution_count": 6,
   "id": "118ed851-c387-42ac-a356-aa65872e6aaf",
   "metadata": {},
   "outputs": [
    {
     "name": "stdin",
     "output_type": "stream",
     "text": [
      "enter a bill 100\n",
      "enter a tip 10\n"
     ]
    },
    {
     "name": "stdout",
     "output_type": "stream",
     "text": [
      "110.0\n"
     ]
    }
   ],
   "source": [
    "def fun(bill,tip):\n",
    "    print(bill+(bill/100)*tip)\n",
    "n1=eval(input(\"enter a bill\"))\n",
    "n2=eval(input(\"enter a tip\"))\n",
    "fun(n1,n2)\n",
    "    "
   ]
  },
  {
   "cell_type": "code",
   "execution_count": 7,
   "id": "903adba4-9b76-4bd4-b50f-b029d6d11577",
   "metadata": {},
   "outputs": [
    {
     "name": "stdin",
     "output_type": "stream",
     "text": [
      "enter a bill 100\n",
      "enter a tip 11\n"
     ]
    },
    {
     "name": "stdout",
     "output_type": "stream",
     "text": [
      "111\n"
     ]
    }
   ],
   "source": [
    "def fun(bill,tip):\n",
    "    print(bill+tip)\n",
    "n1=eval(input(\"enter a bill\"))\n",
    "n2=eval(input(\"enter a tip\"))\n",
    "fun(n1,n2)"
   ]
  },
  {
   "cell_type": "code",
   "execution_count": 13,
   "id": "2d542318-c5c6-4a11-9b3f-1a2bb01bcfde",
   "metadata": {},
   "outputs": [],
   "source": [
    "a='string'"
   ]
  },
  {
   "cell_type": "code",
   "execution_count": 15,
   "id": "75227cd9-c17e-493f-a968-f1e6bfa7e44c",
   "metadata": {},
   "outputs": [
    {
     "name": "stdout",
     "output_type": "stream",
     "text": [
      "s\n",
      "ts\n",
      "rts\n",
      "irts\n",
      "nirts\n",
      "gnirts\n"
     ]
    }
   ],
   "source": [
    "s=''\n",
    "for i in a:\n",
    "    s=i+s\n",
    "    print(s)\n",
    "    "
   ]
  },
  {
   "cell_type": "code",
   "execution_count": 16,
   "id": "deb7ee78-c883-4f26-a0a3-87c98fa6549b",
   "metadata": {},
   "outputs": [
    {
     "name": "stdout",
     "output_type": "stream",
     "text": [
      "hy\n"
     ]
    }
   ],
   "source": [
    "print(\"hy\")"
   ]
  },
  {
   "cell_type": "code",
   "execution_count": null,
   "id": "4f2477b2-8c06-4903-a164-c71293c55cab",
   "metadata": {},
   "outputs": [],
   "source": []
  }
 ],
 "metadata": {
  "kernelspec": {
   "display_name": "Python 3 (ipykernel)",
   "language": "python",
   "name": "python3"
  },
  "language_info": {
   "codemirror_mode": {
    "name": "ipython",
    "version": 3
   },
   "file_extension": ".py",
   "mimetype": "text/x-python",
   "name": "python",
   "nbconvert_exporter": "python",
   "pygments_lexer": "ipython3",
   "version": "3.12.4"
  }
 },
 "nbformat": 4,
 "nbformat_minor": 5
}
