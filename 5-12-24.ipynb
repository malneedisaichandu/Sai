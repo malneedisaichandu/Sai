{
 "cells": [
  {
   "cell_type": "code",
   "execution_count": 2,
   "id": "eada739f-6f75-4202-9cf6-2fe17c1359ab",
   "metadata": {},
   "outputs": [
    {
     "name": "stdout",
     "output_type": "stream",
     "text": [
      "fdtyuhiopkjvcfghj\n"
     ]
    }
   ],
   "source": [
    "file_path = r\"C:\\Users\\Malneedi.chandu\\Desktop\\DataFiles\\hello.txt\"\n",
    "with open(file_path, 'r') as file:\n",
    "    content = file.read()\n",
    "    print(content)"
   ]
  },
  {
   "cell_type": "code",
   "execution_count": null,
   "id": "c476cc0f-f147-4560-bfd7-bebd6554e506",
   "metadata": {},
   "outputs": [],
   "source": [
    "#print(\"01-03-25\")"
   ]
  },
  {
   "cell_type": "code",
   "execution_count": null,
   "id": "c685bf80",
   "metadata": {},
   "outputs": [],
   "source": []
  },
  {
   "cell_type": "code",
   "execution_count": null,
   "id": "84d0c572",
   "metadata": {},
   "outputs": [],
   "source": []
  }
 ],
 "metadata": {
  "kernelspec": {
   "display_name": "Python 3 (ipykernel)",
   "language": "python",
   "name": "python3"
  },
  "language_info": {
   "codemirror_mode": {
    "name": "ipython",
    "version": 3
   },
   "file_extension": ".py",
   "mimetype": "text/x-python",
   "name": "python",
   "nbconvert_exporter": "python",
   "pygments_lexer": "ipython3",
   "version": "3.12.4"
  }
 },
 "nbformat": 4,
 "nbformat_minor": 5
}
